{
  "nbformat": 4,
  "nbformat_minor": 0,
  "metadata": {
    "colab": {
      "provenance": []
    },
    "kernelspec": {
      "name": "python3",
      "display_name": "Python 3"
    },
    "language_info": {
      "name": "python"
    }
  },
  "cells": [
    {
      "cell_type": "code",
      "execution_count": null,
      "metadata": {
        "colab": {
          "base_uri": "https://localhost:8080/"
        },
        "id": "_xwxsEqWw3_p",
        "outputId": "0765c73d-c1f7-421d-a029-50067e72b17a"
      },
      "outputs": [
        {
          "output_type": "stream",
          "name": "stdout",
          "text": [
            "[30, 40, 50, 5, 5, 3]\n"
          ]
        }
      ],
      "source": [
        "a = [30,40,50]\n",
        "b = [5,5,3]\n",
        "print(a+b)"
      ]
    },
    {
      "cell_type": "code",
      "source": [
        "#Concatenate\n",
        "import numpy as np\n",
        "arr1 = np.array([[30,40],[50,10]])\n",
        "arr2 = np.array([[5,5],[3,3]])\n",
        "print(np.concatenate([arr1,arr2]))\n"
      ],
      "metadata": {
        "colab": {
          "base_uri": "https://localhost:8080/"
        },
        "id": "Ogk3X5VWxX_u",
        "outputId": "c0c4a96d-2b13-4c4f-bd93-d93d08e447a7"
      },
      "execution_count": null,
      "outputs": [
        {
          "output_type": "stream",
          "name": "stdout",
          "text": [
            "[[30 40]\n",
            " [50 10]\n",
            " [ 5  5]\n",
            " [ 3  3]]\n"
          ]
        }
      ]
    },
    {
      "cell_type": "code",
      "source": [
        "print(np.concatenate([arr1,arr2],axis = 0))"
      ],
      "metadata": {
        "colab": {
          "base_uri": "https://localhost:8080/"
        },
        "id": "7nrQgDKZxYl4",
        "outputId": "7a53e7a7-c058-4b68-9d8d-8cdd12397815"
      },
      "execution_count": null,
      "outputs": [
        {
          "output_type": "stream",
          "name": "stdout",
          "text": [
            "[[30 40]\n",
            " [50 10]\n",
            " [ 5  5]\n",
            " [ 3  3]]\n"
          ]
        }
      ]
    },
    {
      "cell_type": "code",
      "source": [
        "print(np.hstack([arr1,arr2])) #horizontal concatenation"
      ],
      "metadata": {
        "colab": {
          "base_uri": "https://localhost:8080/"
        },
        "id": "-M9pjeYaxYv1",
        "outputId": "edeac001-f592-4354-afc4-b52f45df27f4"
      },
      "execution_count": null,
      "outputs": [
        {
          "output_type": "stream",
          "name": "stdout",
          "text": [
            "[[30 40  5  5]\n",
            " [50 10  3  3]]\n"
          ]
        }
      ]
    },
    {
      "cell_type": "code",
      "source": [
        "print(np.vstack([arr1,arr2])) #vertical concatenation"
      ],
      "metadata": {
        "colab": {
          "base_uri": "https://localhost:8080/"
        },
        "id": "CycDEAkmxYzU",
        "outputId": "5aaec555-3360-4cf7-87db-929a94ad6b0b"
      },
      "execution_count": null,
      "outputs": [
        {
          "output_type": "stream",
          "name": "stdout",
          "text": [
            "[[30 40]\n",
            " [50 10]\n",
            " [ 5  5]\n",
            " [ 3  3]]\n"
          ]
        }
      ]
    },
    {
      "cell_type": "code",
      "source": [
        "a = np.array([[20,40,30],[40,10,20]])\n",
        "b = np.array_split(a,2)\n",
        "print(b)"
      ],
      "metadata": {
        "colab": {
          "base_uri": "https://localhost:8080/"
        },
        "id": "o3vXPpYbxY5A",
        "outputId": "14d95107-71aa-4950-9811-491fb73d1b10"
      },
      "execution_count": null,
      "outputs": [
        {
          "output_type": "stream",
          "name": "stdout",
          "text": [
            "[array([[20, 40, 30]]), array([[40, 10, 20]])]\n"
          ]
        }
      ]
    },
    {
      "cell_type": "code",
      "source": [],
      "metadata": {
        "id": "8sjHQj9bxY8k"
      },
      "execution_count": null,
      "outputs": []
    }
  ]
}