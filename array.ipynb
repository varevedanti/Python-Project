{
 "cells": [
  {
   "cell_type": "code",
   "execution_count": 3,
   "id": "4533e69c-bf9a-4218-b871-bf452be0b483",
   "metadata": {},
   "outputs": [
    {
     "name": "stdout",
     "output_type": "stream",
     "text": [
      "(3, 4)\n",
      "12\n",
      "2\n",
      "int64\n"
     ]
    }
   ],
   "source": [
    "import numpy as np\n",
    "\n",
    "arr = np.array([[10, 20, 30, 40],[50,60,70,80],[20,40,60,80]])\n",
    "\n",
    "print(np.shape(arr))\n",
    "print(np.size(arr))\n",
    "print(np.ndim(arr))\n",
    "print(arr.dtype)"
   ]
  },
  {
   "cell_type": "code",
   "execution_count": 4,
   "id": "f493bc19-e81f-4293-9b2e-f9e2b00fea7f",
   "metadata": {},
   "outputs": [
    {
     "name": "stdout",
     "output_type": "stream",
     "text": [
      "[[30 40 40]\n",
      " [40 30 10]]\n",
      "(2, 3)\n",
      "2\n",
      "6\n",
      "<class 'numpy.ndarray'>\n",
      "int64\n",
      "[[30 40 40]\n",
      " [40 30 10]]\n"
     ]
    }
   ],
   "source": [
    "a=[[30,40,40],[40,30,10]]\n",
    "arr=np.array(a)\n",
    "print(arr)\n",
    "print(arr.shape)\n",
    "print(len(arr))\n",
    "print(np.size(arr))\n",
    "print(type(arr))\n",
    "print(arr.dtype)\n",
    "print(arr.astype(int))"
   ]
  },
  {
   "cell_type": "code",
   "execution_count": 5,
   "id": "f8ece1c5-14b2-4095-8a96-19ec74fcbebc",
   "metadata": {},
   "outputs": [
    {
     "name": "stdout",
     "output_type": "stream",
     "text": [
      "[[60 60]\n",
      " [30 30]]\n",
      "[[60 60]\n",
      " [30 30]]\n"
     ]
    }
   ],
   "source": [
    "import numpy as np\n",
    "arr1=np.array([[30,40],[20,10]])\n",
    "arr2=np.array([[30,20],[10,20]])\n",
    "print(arr1+arr2)\n",
    "print(np.add(arr1,arr2))"
   ]
  },
  {
   "cell_type": "code",
   "execution_count": 6,
   "id": "5251c08e-2b26-4d35-87ec-274210097f18",
   "metadata": {},
   "outputs": [
    {
     "name": "stdout",
     "output_type": "stream",
     "text": [
      "[3. 4. 2. 1.]\n"
     ]
    }
   ],
   "source": [
    "arr1=np.array([9, 16,  4 , 1])\n",
    "print(np.sqrt(arr1))"
   ]
  },
  {
   "cell_type": "code",
   "execution_count": 7,
   "id": "dee4a119-f4ff-4a48-aa4e-6836ccfaa8cf",
   "metadata": {},
   "outputs": [
    {
     "name": "stdout",
     "output_type": "stream",
     "text": [
      "[ 9 16  4  1]\n"
     ]
    }
   ],
   "source": [
    "arr1=np.array([3,4,2,1])\n",
    "arr2=np.array([2])\n",
    "print(np.power(arr1,arr2))"
   ]
  },
  {
   "cell_type": "code",
   "execution_count": 8,
   "id": "7fdb4a73-e43e-4e60-83f5-abbac3dd8a4f",
   "metadata": {},
   "outputs": [
    {
     "name": "stdout",
     "output_type": "stream",
     "text": [
      "[[1.  2. ]\n",
      " [2.  0.5]]\n",
      "[[1.  2. ]\n",
      " [2.  0.5]]\n"
     ]
    }
   ],
   "source": [
    "\n",
    "import numpy as np\n",
    "arr1=np.array([[30,40],[20,10]])\n",
    "arr2=np.array([[30,20],[10,20]])\n",
    "print(arr1/arr2)\n",
    "print(np.divide(arr1,arr2))"
   ]
  },
  {
   "cell_type": "code",
   "execution_count": 9,
   "id": "2bf34285-eecc-4424-a164-6133d6987fb9",
   "metadata": {},
   "outputs": [
    {
     "name": "stdout",
     "output_type": "stream",
     "text": [
      "[[900 800]\n",
      " [200 200]]\n",
      "[[900 800]\n",
      " [200 200]]\n"
     ]
    }
   ],
   "source": [
    "\n",
    "import numpy as np\n",
    "arr1=np.array([[30,40],[20,10]])\n",
    "arr2=np.array([[30,20],[10,20]])\n",
    "print(arr1*arr2)\n",
    "print(np.multiply(arr1,arr2))"
   ]
  },
  {
   "cell_type": "code",
   "execution_count": 10,
   "id": "29dd1480-2ee1-41e5-b74c-fd80fa825282",
   "metadata": {},
   "outputs": [
    {
     "name": "stdout",
     "output_type": "stream",
     "text": [
      "[[  0  20]\n",
      " [ 10 -10]]\n",
      "[[  0  20]\n",
      " [ 10 -10]]\n"
     ]
    }
   ],
   "source": [
    "\n",
    "import numpy as np\n",
    "arr1=np.array([[30,40],[20,10]])\n",
    "arr2=np.array([[30,20],[10,20]])\n",
    "print(arr1-arr2)\n",
    "print(np.subtract(arr1,arr2))"
   ]
  },
  {
   "cell_type": "code",
   "execution_count": null,
   "id": "53ca6da3-0bf6-4704-9416-86f557b825d9",
   "metadata": {},
   "outputs": [],
   "source": []
  }
 ],
 "metadata": {
  "kernelspec": {
   "display_name": "Python 3 (ipykernel)",
   "language": "python",
   "name": "python3"
  },
  "language_info": {
   "codemirror_mode": {
    "name": "ipython",
    "version": 3
   },
   "file_extension": ".py",
   "mimetype": "text/x-python",
   "name": "python",
   "nbconvert_exporter": "python",
   "pygments_lexer": "ipython3",
   "version": "3.13.1"
  }
 },
 "nbformat": 4,
 "nbformat_minor": 5
}
