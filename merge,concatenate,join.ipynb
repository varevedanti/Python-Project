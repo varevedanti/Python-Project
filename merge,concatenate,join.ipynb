{
 "cells": [
  {
   "cell_type": "code",
   "execution_count": 3,
   "id": "b68589f7-9e24-4e60-a8c5-cc129564ae08",
   "metadata": {},
   "outputs": [
    {
     "name": "stdout",
     "output_type": "stream",
     "text": [
      "  Emp Id   Names  Age\n",
      "0    E01     Ram   34\n",
      "1    E02   Shyan   56\n",
      "2    E03   Rahul   23\n",
      "3    E04  Vishal   44\n",
      "4    E05    Ravi   32\n",
      "5    E06    John   36\n",
      "\n",
      "  Emp Id  Salary\n",
      "0    E01   45000\n",
      "1    E02   56000\n",
      "2    E03   34000\n",
      "3    E04   50000\n",
      "4    E05   62000\n",
      "5    E06   52000\n"
     ]
    }
   ],
   "source": [
    "import pandas as pd\n",
    "\n",
    "data1 = {\"Emp Id\":[\"E01\",\"E02\",\"E03\",\"E04\",\"E05\",\"E06\"],\n",
    "         \"Names\":[\"Ram\",\"Shyan\",\"Rahul\",\"Vishal\",\"Ravi\",\"John\"],\n",
    "         \"Age\":[34,56,23,44,32,36]}\n",
    "data2 = {\"Emp Id\":[\"E01\",\"E02\",\"E03\",\"E04\",\"E05\",\"E06\"],\n",
    "         \"Salary\":[45000,56000,34000,50000,62000,52000]}\n",
    "\n",
    "df1 = pd.DataFrame(data1)\n",
    "df2 = pd.DataFrame(data2)\n",
    "\n",
    "print(df1)\n",
    "print()\n",
    "print(df2)"
   ]
  },
  {
   "cell_type": "code",
   "execution_count": 5,
   "id": "c0200ff6-54cb-45ed-9f68-d8b158c88732",
   "metadata": {},
   "outputs": [
    {
     "name": "stdout",
     "output_type": "stream",
     "text": [
      "  Emp Id   Names  Age  Salary\n",
      "0    E01     Ram   34   45000\n",
      "1    E02   Shyan   56   56000\n",
      "2    E03   Rahul   23   34000\n",
      "3    E04  Vishal   44   50000\n",
      "4    E05    Ravi   32   62000\n",
      "5    E06    John   36   52000\n"
     ]
    }
   ],
   "source": [
    "print(pd.merge(df1,df2,on = \"Emp Id\",how = \"left\"))"
   ]
  },
  {
   "cell_type": "code",
   "execution_count": 6,
   "id": "05fa10c2-03c7-4ba6-b626-ccfb2f689d7d",
   "metadata": {},
   "outputs": [
    {
     "name": "stdout",
     "output_type": "stream",
     "text": [
      "  Emp Id   Names  Age\n",
      "0    E01     Ram   34\n",
      "1    E02   Shyan   56\n",
      "2    E03   Rahul   23\n",
      "3    E04  Vishal   44\n",
      "4    E05    Ravi   32\n",
      "5    E06    John   36\n",
      "\n",
      "  Emp Id   Names  Age\n",
      "0    E07   bittu   34\n",
      "1    E08  chintu   56\n",
      "2    E09   pappu   23\n",
      "3   E010   chotu   44\n",
      "4   E011   bunty   32\n",
      "5   E012    golu   36\n"
     ]
    }
   ],
   "source": [
    "data1 = {\"Emp Id\":[\"E01\",\"E02\",\"E03\",\"E04\",\"E05\",\"E06\"],\n",
    "         \"Names\":[\"Ram\",\"Shyan\",\"Rahul\",\"Vishal\",\"Ravi\",\"John\"],\n",
    "         \"Age\":[34,56,23,44,32,36]}\n",
    "data2 = {\"Emp Id\":[\"E07\",\"E08\",\"E09\",\"E010\",\"E011\",\"E012\"],\n",
    "         \"Names\":[\"bittu\",\"chintu\",\"pappu\",\"chotu\",\"bunty\",\"golu\"],\n",
    "         \"Age\":[34,56,23,44,32,36]}\n",
    "\n",
    "df1 = pd.DataFrame(data1)\n",
    "df2 = pd.DataFrame(data2)\n",
    "\n",
    "print(df1)\n",
    "print()\n",
    "print(df2)"
   ]
  },
  {
   "cell_type": "code",
   "execution_count": null,
   "id": "868a5737-394d-4bb7-a13d-fcf4584f380d",
   "metadata": {},
   "outputs": [],
   "source": []
  },
  {
   "cell_type": "code",
   "execution_count": null,
   "id": "e1b61210-7a34-47c1-9c51-e610c2a6a594",
   "metadata": {},
   "outputs": [],
   "source": []
  }
 ],
 "metadata": {
  "kernelspec": {
   "display_name": "Python 3 (ipykernel)",
   "language": "python",
   "name": "python3"
  },
  "language_info": {
   "codemirror_mode": {
    "name": "ipython",
    "version": 3
   },
   "file_extension": ".py",
   "mimetype": "text/x-python",
   "name": "python",
   "nbconvert_exporter": "python",
   "pygments_lexer": "ipython3",
   "version": "3.13.1"
  }
 },
 "nbformat": 4,
 "nbformat_minor": 5
}
